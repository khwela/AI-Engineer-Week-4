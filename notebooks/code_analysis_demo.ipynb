{
  "cells": [
    {
      "cell_type": "code",
      "execution_count": null,
      "metadata": {
        "vscode": {
          "languageId": "plaintext"
        }
      },
      "outputs": [],
      "source": [
        "# Code Analysis Demo\n",
        "\n",
        "This notebook demonstrates the functionality of our AI-powered code analysis system.\n"
      ]
    },
    {
      "cell_type": "code",
      "execution_count": null,
      "metadata": {},
      "outputs": [],
      "source": [
        "import requests\n",
        "import json\n",
        "from pprint import pprint\n"
      ]
    },
    {
      "cell_type": "code",
      "execution_count": null,
      "metadata": {},
      "outputs": [],
      "source": [
        "## Setup\n",
        "\n",
        "First, let's define some helper functions to interact with our API.\n"
      ]
    },
    {
      "cell_type": "code",
      "execution_count": null,
      "metadata": {},
      "outputs": [],
      "source": [
        "API_URL = \"http://localhost:8000\"\n",
        "\n",
        "def analyze_code(code: str, language: str):\n",
        "    \"\"\"Send code to the API for analysis.\"\"\"\n",
        "    response = requests.post(\n",
        "        f\"{API_URL}/analyze\",\n",
        "        json={\"code\": code, \"language\": language}\n",
        "    )\n",
        "    return response.json()\n"
      ]
    },
    {
      "cell_type": "code",
      "execution_count": null,
      "metadata": {},
      "outputs": [],
      "source": [
        "## Example 1: Python Code Analysis\n",
        "\n",
        "Let's analyze a simple Python function with some common issues.\n"
      ]
    },
    {
      "cell_type": "code",
      "execution_count": null,
      "metadata": {},
      "outputs": [],
      "source": [
        "python_code = \"\"\"\n",
        "def process(data):\n",
        "    # Process the input data without type hints\n",
        "    result = {}\n",
        "    for i in data:\n",
        "        if len(i) > 0:\n",
        "            if i[0].isupper():\n",
        "                if i not in result:\n",
        "                    result[i] = len(i)\n",
        "    return result\n",
        "\"\"\"\n",
        "\n",
        "python_analysis = analyze_code(python_code, \"python\")\n",
        "pprint(python_analysis)\n"
      ]
    },
    {
      "cell_type": "code",
      "execution_count": null,
      "metadata": {},
      "outputs": [],
      "source": [
        " ## Example 2: JavaScript Code Analysis\n",
        "\n",
        "Now let's analyze a JavaScript function with potential improvements.\n"
      ]
    },
    {
      "cell_type": "code",
      "execution_count": null,
      "metadata": {},
      "outputs": [],
      "source": [
        "js_code = \"\"\"\n",
        "function fetchUserData(userId) {\n",
        "    return fetch(`/api/users/${userId}`)\n",
        "        .then(response => response.json())\n",
        "        .then(data => {\n",
        "            if (data.error) {\n",
        "                throw new Error(data.error);\n",
        "            }\n",
        "            return data;\n",
        "        })\n",
        "        .catch(error => {\n",
        "            console.error('Error fetching user:', error);\n",
        "            throw error;\n",
        "        });\n",
        "}\n",
        "\"\"\"\n",
        "\n",
        "js_analysis = analyze_code(js_code, \"javascript\")\n",
        "pprint(js_analysis)\n"
      ]
    },
    {
      "cell_type": "code",
      "execution_count": null,
      "metadata": {},
      "outputs": [],
      "source": [
        "## Example 3: Complex Code Analysis\n",
        "\n",
        "Let's analyze a more complex piece of code with multiple potential issues.\n"
      ]
    },
    {
      "cell_type": "code",
      "execution_count": null,
      "metadata": {},
      "outputs": [],
      "source": [
        "complex_code = \"\"\"\n",
        "class DataProcessor:\n",
        "    def __init__(self):\n",
        "        self.cache = {}\n",
        "    \n",
        "    def process_item(self, item):\n",
        "        if item in self.cache:\n",
        "            return self.cache[item]\n",
        "        \n",
        "        result = self.complex_calculation(item)\n",
        "        self.cache[item] = result\n",
        "        return result\n",
        "    \n",
        "    def complex_calculation(self, item):\n",
        "        # This is a very long line that exceeds the recommended line length and makes the code harder to read and maintain\n",
        "        processed = item.strip().lower().replace(' ', '_').encode('utf-8').decode('utf-8')\n",
        "        \n",
        "        if len(processed) > 0:\n",
        "            if processed[0].isalpha():\n",
        "                if processed.isalnum():\n",
        "                    if len(processed) < 100:\n",
        "                        return processed\n",
        "        return None\n",
        "\"\"\"\n",
        "\n",
        "complex_analysis = analyze_code(complex_code, \"python\")\n",
        "pprint(complex_analysis)\n"
      ]
    },
    {
      "cell_type": "code",
      "execution_count": null,
      "metadata": {},
      "outputs": [],
      "source": [
        "## Analysis Results\n",
        "\n",
        "Let's summarize what we've learned from these examples:\n"
      ]
    },
    {
      "cell_type": "code",
      "execution_count": null,
      "metadata": {},
      "outputs": [],
      "source": [
        "def summarize_analysis(analysis):\n",
        "    print(\"Issues:\")\n",
        "    for issue in analysis.get(\"issues\", []):\n",
        "        print(f\"- {issue['message']} (Line {issue['line']}, {issue['severity']} severity)\")\n",
        "    \n",
        "    print(\"\\nSuggestions:\")\n",
        "    for suggestion in analysis.get(\"suggestions\", []):\n",
        "        print(f\"- {suggestion['message']}\")\n",
        "        if \"example\" in suggestion:\n",
        "            print(f\"  Example: {suggestion['example']}\")\n",
        "    \n",
        "    print(\"\\nMetrics:\")\n",
        "    for metric in analysis.get(\"metrics\", []):\n",
        "        print(f\"- {metric['name']}: {metric['value']}\")\n",
        "\n",
        "print(\"Python Analysis:\")\n",
        "summarize_analysis(python_analysis)\n",
        "\n",
        "print(\"\\nJavaScript Analysis:\")\n",
        "summarize_analysis(js_analysis)\n",
        "\n",
        "print(\"\\nComplex Code Analysis:\")\n",
        "summarize_analysis(complex_analysis)\n"
      ]
    }
  ],
  "metadata": {
    "language_info": {
      "name": "python"
    }
  },
  "nbformat": 4,
  "nbformat_minor": 2
}
