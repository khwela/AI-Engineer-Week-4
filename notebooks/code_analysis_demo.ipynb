{
  "cells": [
    {
      "cell_type": "code",
      "execution_count": null,
      "metadata": {
        "vscode": {
          "languageId": "plaintext"
        }
      },
      "outputs": [],
      "source": [
        "# Code Analysis Demo\n",
        "\n",
        "This notebook demonstrates the functionality of our AI-powered code analysis system.\n"
      ]
    },
    {
      "cell_type": "code",
      "execution_count": null,
      "metadata": {},
      "outputs": [],
      "source": [
        "import requests\n",
        "import json\n",
        "from pprint import pprint\n"
      ]
    },
    {
      "cell_type": "code",
      "execution_count": null,
      "metadata": {},
      "outputs": [],
      "source": [
        "## Setup\n",
        "\n",
        "First, let's define some helper functions to interact with our API.\n"
      ]
    },
    {
      "cell_type": "code",
      "execution_count": null,
      "metadata": {},
      "outputs": [],
      "source": [
        "API_URL = \"http://localhost:8000\"\n",
        "\n",
        "def analyze_code(code: str, language: str):\n",
        "    \"\"\"Send code to the API for analysis.\"\"\"\n",
        "    response = requests.post(\n",
        "        f\"{API_URL}/analyze\",\n",
        "        json={\"code\": code, \"language\": language}\n",
        "    )\n",
        "    return response.json()\n"
      ]
    },
    {
      "cell_type": "code",
      "execution_count": null,
      "metadata": {},
      "outputs": [],
      "source": [
        "## Example 1: Python Code Analysis\n",
        "\n",
        "Let's analyze a simple Python function with some common issues.\n"
      ]
    },
    {
      "cell_type": "code",
      "execution_count": null,
      "metadata": {},
      "outputs": [],
      "source": [
        "python_code = \"\"\"\n",
        "def process(data):\n",
        "    # Process the input data without type hints\n",
        "    result = {}\n",
        "    for i in data:\n",
        "        if len(i) > 0:\n",
        "            if i[0].isupper():\n",
        "                if i not in result:\n",
        "                    result[i] = len(i)\n",
        "    return result\n",
        "\"\"\"\n",
        "\n",
        "python_analysis = analyze_code(python_code, \"python\")\n",
        "pprint(python_analysis)\n"
      ]
    },
    {
      "cell_type": "code",
      "execution_count": null,
      "metadata": {},
      "outputs": [],
      "source": [
        " ## Example 2: JavaScript Code Analysis\n",
        "\n",
        "Now let's analyze a JavaScript function with potential improvements.\n"
      ]
    },
    {
      "cell_type": "code",
      "execution_count": null,
      "metadata": {},
      "outputs": [],
      "source": [
        "js_code = \"\"\"\n",
        "function fetchUserData(userId) {\n",
        "    return fetch(`/api/users/${userId}`)\n",
        "        .then(response => response.json())\n",
        "        .then(data => {\n",
        "            if (data.error) {\n",
        "                throw new Error(data.error);\n",
        "            }\n",
        "            return data;\n",
        "        })\n",
        "        .catch(error => {\n",
        "            console.error('Error fetching user:', error);\n",
        "            throw error;\n",
        "        });\n",
        "}\n",
        "\"\"\"\n",
        "\n",
        "js_analysis = analyze_code(js_code, \"javascript\")\n",
        "pprint(js_analysis)\n"
      ]
    },
    {
      "cell_type": "code",
      "execution_count": null,
      "metadata": {},
      "outputs": [],
      "source": [
        "## Example 3: Complex Code Analysis\n",
        "\n",
        "Let's analyze a more complex piece of code with multiple potential issues.\n"
      ]
    }
  ],
  "metadata": {
    "language_info": {
      "name": "python"
    }
  },
  "nbformat": 4,
  "nbformat_minor": 2
}
